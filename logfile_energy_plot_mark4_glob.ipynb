{
 "cells": [
  {
   "cell_type": "code",
   "execution_count": 36,
   "metadata": {},
   "outputs": [],
   "source": [
    "import numpy as np\n",
    "import pandas as pd\n",
    "import matplotlib.pyplot as plt"
   ]
  },
  {
   "cell_type": "code",
   "execution_count": 37,
   "metadata": {},
   "outputs": [],
   "source": [
    "import glob\n",
    "files = glob.glob(\"548*32*.log\")"
   ]
  },
  {
   "cell_type": "code",
   "execution_count": 38,
   "metadata": {},
   "outputs": [
    {
     "data": {
      "text/plain": [
       "['5486199_MARK4_32-1_80A_v1.log',\n",
       " '5486199_MARK4_32-1_80A_v3.log',\n",
       " '5486199_MARK4_32-1_80A_v2.log']"
      ]
     },
     "execution_count": 38,
     "metadata": {},
     "output_type": "execute_result"
    }
   ],
   "source": [
    "files"
   ]
  },
  {
   "cell_type": "code",
   "execution_count": 39,
   "metadata": {},
   "outputs": [],
   "source": [
    "for i in range(0,len(files)):\n",
    "    log=pd.read_table(files[i])\n",
    "\n",
    "    log['Time (ps)']=pd.to_numeric(log['Time (ps)'], errors='coerce')\n",
    "    log['Potential Energy (kJ/mole)']=pd.to_numeric(log['Potential Energy (kJ/mole)'], errors='coerce')\n",
    "\n",
    "\n",
    "    log['Time (ps)']=log['Time (ps)'].astype('int',  errors = 'ignore')\n",
    "\n",
    "    pE_window=log['Potential Energy (kJ/mole)'].rolling(1000).mean()\n",
    "\n",
    "    late=pE_window[10000:100000]\n",
    "\n",
    "    file_stem = files[i].replace(\".log\", '')\n",
    "\n",
    "    plot=late.plot(kind='line')\n",
    "    fig = plot.get_figure()\n",
    "    fig.savefig(file_stem )\n",
    "    plt.close()"
   ]
  },
  {
   "cell_type": "code",
   "execution_count": null,
   "metadata": {},
   "outputs": [],
   "source": []
  }
 ],
 "metadata": {
  "kernelspec": {
   "display_name": "Python 3",
   "language": "python",
   "name": "python3"
  },
  "language_info": {
   "codemirror_mode": {
    "name": "ipython",
    "version": 3
   },
   "file_extension": ".py",
   "mimetype": "text/x-python",
   "name": "python",
   "nbconvert_exporter": "python",
   "pygments_lexer": "ipython3",
   "version": "3.8.8"
  }
 },
 "nbformat": 4,
 "nbformat_minor": 2
}
