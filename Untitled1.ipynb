{
 "cells": [
  {
   "cell_type": "code",
   "execution_count": 1,
   "id": "90ca7dfc",
   "metadata": {},
   "outputs": [],
   "source": [
    "from prody import *\n",
    "\n",
    "from pylab import *\n",
    "\n",
    "ion()"
   ]
  },
  {
   "cell_type": "code",
   "execution_count": 8,
   "id": "72710b98",
   "metadata": {
    "scrolled": true
   },
   "outputs": [
    {
     "name": "stdout",
     "output_type": "stream",
     "text": [
      "[[0.    0.091 0.993 ... 3.459 3.252 3.13 ]\n",
      " [0.091 0.    0.57  ... 3.79  3.63  3.485]\n",
      " [0.993 0.57  0.    ... 3.893 3.975 3.974]\n",
      " ...\n",
      " [3.459 3.79  3.893 ... 0.    0.029 0.122]\n",
      " [3.252 3.63  3.975 ... 0.029 0.    0.042]\n",
      " [3.13  3.485 3.974 ... 0.122 0.042 0.   ]]\n",
      "[[0.    0.196 0.971 ... 3.804 3.781 3.732]\n",
      " [0.196 0.    0.421 ... 3.685 3.508 3.994]\n",
      " [0.971 0.421 0.    ... 2.679 2.384 3.633]\n",
      " ...\n",
      " [3.804 3.685 2.679 ... 0.    0.033 0.359]\n",
      " [3.781 3.508 2.384 ... 0.033 0.    0.559]\n",
      " [3.732 3.994 3.633 ... 0.359 0.559 0.   ]]\n",
      "[[0.    0.034 0.191 ... 3.592 3.667 2.917]\n",
      " [0.034 0.    0.094 ... 3.372 3.452 2.812]\n",
      " [0.191 0.094 0.    ... 3.222 3.045 3.081]\n",
      " ...\n",
      " [3.592 3.372 3.222 ... 0.    0.272 0.5  ]\n",
      " [3.667 3.452 3.045 ... 0.272 0.    1.362]\n",
      " [2.917 2.812 3.081 ... 0.5   1.362 0.   ]]\n",
      "[[0.000e+00 3.600e-02 4.600e-02 ... 3.040e-01 1.610e-01 1.434e+00]\n",
      " [3.600e-02 0.000e+00 1.000e-03 ... 1.510e-01 1.210e-01 1.566e+00]\n",
      " [4.600e-02 1.000e-03 0.000e+00 ... 1.320e-01 1.160e-01 1.570e+00]\n",
      " ...\n",
      " [3.040e-01 1.510e-01 1.320e-01 ... 0.000e+00 1.070e-01 1.448e+00]\n",
      " [1.610e-01 1.210e-01 1.160e-01 ... 1.070e-01 0.000e+00 9.850e-01]\n",
      " [1.434e+00 1.566e+00 1.570e+00 ... 1.448e+00 9.850e-01 0.000e+00]]\n"
     ]
    }
   ],
   "source": [
    "eda_lig_1 =loadModel('mark4_32_Ensemble_v1.eda.npz')\n",
    "\n",
    "for mode in eda_lig_1[:4]:\n",
    "    print(calcDistFlucts(mode).round(3))"
   ]
  },
  {
   "cell_type": "code",
   "execution_count": 16,
   "id": "defb1c7c",
   "metadata": {},
   "outputs": [
    {
     "data": {
      "text/plain": [
       "<DCDFile: MARK4_1_80A_v3_CA_add_pbc (next 0 of 60000 frames; 317 atoms)>"
      ]
     },
     "execution_count": 16,
     "metadata": {},
     "output_type": "execute_result"
    }
   ],
   "source": [
    "prt_3_a_pbc = DCDFile('../../MARK4/Longer_quec/MARK4_1_80A_v3_CA_add_pbc.dcd')\n",
    "\n",
    "prt_3_a_pbc"
   ]
  },
  {
   "cell_type": "code",
   "execution_count": 17,
   "id": "2d3278cc",
   "metadata": {},
   "outputs": [
    {
     "name": "stderr",
     "output_type": "stream",
     "text": [
      "@> Covariance will be calculated using 60000 frames.\n",
      "@> Covariance matrix calculated in 205.021050s.\n",
      "@> 20 modes were calculated in 0.07s.\n"
     ]
    },
    {
     "data": {
      "text/plain": [
       "<EDA: mark4 prot v3 add pbc (20 modes; 317 atoms)>"
      ]
     },
     "execution_count": 17,
     "metadata": {},
     "output_type": "execute_result"
    }
   ],
   "source": [
    "eda_prt_3_a_pbc = EDA('mark4 prot v3 add pbc')\n",
    "\n",
    "eda_prt_3_a_pbc.buildCovariance( prt_3_a_pbc )\n",
    "\n",
    "eda_prt_3_a_pbc.calcModes()\n",
    "\n",
    "eda_prt_3_a_pbc"
   ]
  },
  {
   "cell_type": "code",
   "execution_count": 18,
   "id": "b050d658",
   "metadata": {},
   "outputs": [
    {
     "name": "stdout",
     "output_type": "stream",
     "text": [
      "0.233\n",
      "0.178\n",
      "0.108\n",
      "0.048\n"
     ]
    }
   ],
   "source": [
    "for mode in eda_prt_3_a_pbc[:4]:\n",
    "    print(calcFractVariance(mode).round(3))"
   ]
  },
  {
   "cell_type": "code",
   "execution_count": 13,
   "id": "73440a15",
   "metadata": {},
   "outputs": [
    {
     "data": {
      "text/plain": [
       "<DCDFile: MARK4_1_80A_v2_CA_add_pbc (next 0 of 60000 frames; 317 atoms)>"
      ]
     },
     "execution_count": 13,
     "metadata": {},
     "output_type": "execute_result"
    }
   ],
   "source": [
    "prt_2_a_pbc = DCDFile('../../MARK4/Longer_quec/MARK4_1_80A_v2_CA_add_pbc.dcd')\n",
    "\n",
    "prt_2_a_pbc"
   ]
  },
  {
   "cell_type": "code",
   "execution_count": 14,
   "id": "f7bbc8fd",
   "metadata": {},
   "outputs": [
    {
     "name": "stderr",
     "output_type": "stream",
     "text": [
      "@> Covariance will be calculated using 60000 frames.\n",
      "@> Covariance matrix calculated in 167.673591s.\n",
      "@> 20 modes were calculated in 0.06s.\n"
     ]
    },
    {
     "data": {
      "text/plain": [
       "<EDA: mark4 prot v2 add pbc (20 modes; 317 atoms)>"
      ]
     },
     "execution_count": 14,
     "metadata": {},
     "output_type": "execute_result"
    }
   ],
   "source": [
    "eda_prt_2_a_pbc = EDA('mark4 prot v2 add pbc')\n",
    "\n",
    "eda_prt_2_a_pbc.buildCovariance( prt_2_a_pbc )\n",
    "\n",
    "eda_prt_2_a_pbc.calcModes()\n",
    "\n",
    "eda_prt_2_a_pbc"
   ]
  },
  {
   "cell_type": "code",
   "execution_count": 15,
   "id": "f0368ac0",
   "metadata": {},
   "outputs": [
    {
     "name": "stdout",
     "output_type": "stream",
     "text": [
      "0.199\n",
      "0.128\n",
      "0.075\n",
      "0.056\n"
     ]
    }
   ],
   "source": [
    "for mode in eda_prt_2_a_pbc[:4]:\n",
    "    print(calcFractVariance(mode).round(3))"
   ]
  },
  {
   "cell_type": "code",
   "execution_count": null,
   "id": "fbae57ca",
   "metadata": {},
   "outputs": [],
   "source": []
  }
 ],
 "metadata": {
  "kernelspec": {
   "display_name": "Python 3",
   "language": "python",
   "name": "python3"
  },
  "language_info": {
   "codemirror_mode": {
    "name": "ipython",
    "version": 3
   },
   "file_extension": ".py",
   "mimetype": "text/x-python",
   "name": "python",
   "nbconvert_exporter": "python",
   "pygments_lexer": "ipython3",
   "version": "3.8.8"
  }
 },
 "nbformat": 4,
 "nbformat_minor": 5
}
